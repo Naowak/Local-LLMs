{
  "cells": [
    {
      "cell_type": "markdown",
      "metadata": {},
      "source": [
        "# Runtime Infos"
      ]
    },
    {
      "cell_type": "code",
      "execution_count": null,
      "metadata": {
        "id": "88WyLLrDBe-o"
      },
      "outputs": [],
      "source": [
        "#@title #Runtime Info\n",
        "gpu_info = !nvidia-smi\n",
        "gpu_info = '\\n'.join(gpu_info)\n",
        "if gpu_info.find('failed') >= 0:\n",
        "  print('Not connected to a GPU')\n",
        "else:\n",
        "  print(gpu_info)\n",
        "from psutil import virtual_memory\n",
        "ram_gb = virtual_memory().total / 1e9\n",
        "print('Your runtime has {:.1f} gigabytes of available RAM\\n'.format(ram_gb))\n",
        "if ram_gb < 20:\n",
        "  print('Not using a high-RAM runtime')\n",
        "else:\n",
        "  print('You are using a high-RAM runtime!')\n"
      ]
    },
    {
      "cell_type": "markdown",
      "metadata": {
        "id": "8GtA4onhU8jx"
      },
      "source": [
        "# Installation"
      ]
    },
    {
      "cell_type": "code",
      "execution_count": null,
      "metadata": {
        "id": "gA9vqDiqS8C2"
      },
      "outputs": [],
      "source": [
        "!pip install langchain fastapi nest-asyncio pyngrok uvicorn accelerate transformers"
      ]
    },
    {
      "cell_type": "code",
      "execution_count": null,
      "metadata": {
        "id": "ALw6iTPsR5PR"
      },
      "outputs": [],
      "source": [
        "# Install llama-cpp-python with CUDA support\n",
        "!CMAKE_ARGS=\"-DLLAMA_CUBLAS=on\" FORCE_CMAKE=1 pip install llama-cpp-python --force-reinstall --upgrade --no-cache-dir --verbose"
      ]
    },
    {
      "cell_type": "code",
      "execution_count": null,
      "metadata": {
        "id": "9N6uJZaUR-lA"
      },
      "outputs": [],
      "source": [
        "# Mistral 7B OpenOrca GGUF\n",
        "!wget -O \"model.gguf\" \"https://huggingface.co/TheBloke/Mistral-7B-OpenOrca-GGUF/resolve/main/mistral-7b-openorca.Q4_K_M.gguf?download=true\""
      ]
    },
    {
      "cell_type": "markdown",
      "metadata": {
        "id": "BFuRasbxQK8s"
      },
      "source": [
        "# Load model & infer"
      ]
    },
    {
      "cell_type": "code",
      "execution_count": null,
      "metadata": {
        "id": "PCO21gxPOgJ-"
      },
      "outputs": [],
      "source": [
        "from langchain.llms import LlamaCpp\n",
        "#from langchain.callbacks.manager import CallbackManager\n",
        "#from langchain.callbacks.streaming_stdout import StreamingStdOutCallbackHandler\n",
        "\n",
        "# Callbacks support token-wise streaming\n",
        "#callback_manager = CallbackManager([StreamingStdOutCallbackHandler()])\n",
        "\n",
        "# Create the LlamaCpp object\n",
        "llm = LlamaCpp(\n",
        "    model_path=\"model.gguf\",\n",
        "    temperature=0.75,\n",
        "    top_p=1,\n",
        "    top_k=50,\n",
        "    max_tokens=4096,\n",
        "    n_ctx=4096,\n",
        "    n_gpu_layers=-1,\n",
        "    #callback_manager=callback_manager,\n",
        "    #verbose=True, # Verbose is required to pass to the callback manager\n",
        "    #repeat_penalty=1.1,\n",
        "    #frequency_penalty=0,\n",
        "    #presence_penalty=0,\n",
        ")"
      ]
    },
    {
      "cell_type": "code",
      "execution_count": null,
      "metadata": {
        "id": "tvfEAmU8OWAG"
      },
      "outputs": [],
      "source": [
        "text = \"\"\"\n",
        "Napoléon Bonaparte, né le 15 août 1769 à Ajaccio et mort le 5 mai 1821 sur l'île de Sainte-Hélène, est un militaire et homme d'État français, premier empereur des Français du 18 mai 1804 au 6 avril 1814 et du 20 mars au 22 juin 1815, sous le nom de Napoléon Ier.\n",
        "Second enfant de Charles Bonaparte et Letizia Ramolino, Napoléon Bonaparte devient en 1793 général dans les armées de la Première République française, née de la Révolution, où il est notamment commandant en chef de l'armée d'Italie puis de l'armée d'Orient. Arrivé au pouvoir en 1799 par le coup d'État du 18 Brumaire, il est Premier consul — consul à vie à partir du 2 août 1802 — jusqu'au 18 mai 1804, date à laquelle l'Empire est proclamé par un sénatus-consulte suivi d'un plébiscite. Il est sacré empereur, en la cathédrale Notre-Dame de Paris, le 2 décembre 1804, par le pape Pie VII, en même temps que son épouse Joséphine de Beauharnais.\n",
        "En tant que général en chef et chef d'État, Napoléon tente de briser les coalitions montées et financées par le royaume de Grande-Bretagne et qui rassemblent, à partir de 1792, les monarchies européennes contre la France et son régime né de la Révolution. Il conduit les armées françaises d'Italie au Nil et d'Autriche à la Prusse et à la Pologne : les nombreuses et brillantes victoires de Bonaparte (Arcole, Rivoli, Pyramides, Marengo, Austerlitz, Iéna, Friedland), dans des campagnes militaires rapides, disloquent les quatre premières coalitions. Les paix successives, qui mettent un terme à chacune de ces coalitions, renforcent la France et donnent à Napoléon un degré de puissance jusqu'alors rarement égalé en Europe, lors de la paix de Tilsit (1807).\n",
        "Napoléon Ier réforme durablement l'État, en restaurant son autorité et sa primauté. La France connaît d'importantes réformes, qui font de Napoléon l'un des pères fondateurs des institutions contemporaines françaises. En ce sens, les codifications napoléoniennes, dont le Code civil de 1804, permettent de renforcer les libertés individuelles ou l'égalité des citoyens devant la loi, en opérant une synthèse par la garantie de certains acquis révolutionnaires et la reprise de principes traditionnels issus de l'Ancien Régime. L'administration française est réorganisée, avec la création des préfets dans les départements. De même, une nouvelle monnaie émerge, le franc, tandis qu'est instaurée la Banque de France. Le Conseil d'État est également créé, tout comme les lycées.\n",
        "Il tente également de renforcer l'empire colonial français de l'Ancien Régime en outre-mer. Alors que la révolution haïtienne tourne à la sécession dans cette colonie, Napoléon rétablit l'esclavage en 1802. Toujours pour des raisons politiques, Napoléon revend paradoxalement la Louisiane aux États-Unis, en 1803. Il perd cependant la plupart des colonies qui l’intéressaient face aux Britanniques, et perd Saint-Domingue à la suite de l'échec de l'expédition militaire préalable (1802-1803), visant à combattre les indépendantistes.\n",
        "Il porte le territoire français à son extension maximale en Europe, avec 134 départements en 1812, transformant Rome, Hambourg, Barcelone ou Amsterdam en chefs-lieux de départements français. Il est aussi président de la République italienne de 1802 à 1805, roi d'Italie de 1805 à 1814, médiateur de la Confédération suisse de 1803 à 1813 et protecteur de la confédération du Rhin de 1806 à 1813. Ses victoires lui permettent d'annexer à la France de vastes territoires et de gouverner la majeure partie de l'Europe continentale en plaçant les membres de sa famille sur les trônes de plusieurs royaumes : Joseph à Naples puis en Espagne, Louis en Hollande, Jérôme en Westphalie et son beau-frère Joachim Murat à Naples. Il crée également un duché de Varsovie, sans restaurer formellement l'indépendance polonaise, et soumet temporairement à son influence des puissances vaincues telles que le royaume de Prusse et l'empire d'Autriche.\n",
        "Alors qu'ils financent des coalitions de plus en plus générales, les alliés contre la France finissent par remporter des succès décisifs en Espagne (bataille de Vitoria) et en Allemagne (bataille de Leipzig) en 1813. Son intransigeance devant ces revers lui fait perdre le soutien de pans entiers de la nation française, tandis que ses anciens alliés ou vassaux se retournent contre lui. Amené à abdiquer en 1814 après la prise de Paris, capitale de l'Empire français, et à se retirer à l'île d'Elbe, il tente de reprendre le pouvoir en France, lors de l'épisode des Cent-Jours en 1815. Capable de reconquérir la France et d'y rétablir le régime impérial sans coup férir, il amène pourtant, à la suite de diverses trahisons et dissensions de ses maréchaux, le pays dans une impasse avec la lourde défaite de Waterloo, qui met fin à l'Empire napoléonien et assure la restauration de la dynastie des Bourbons. Sa mort en exil, à Sainte-Hélène, sous la garde des Britanniques, fait l'objet de nombreuses controverses.\n",
        "Objet dès son vivant d'une légende dorée comme d'une légende noire, il doit sa très grande notoriété à son habileté militaire, récompensée par de nombreuses victoires, et à sa trajectoire politique étonnante, mais aussi à son régime despotique et très centralisé ainsi qu'à son ambition, qui se traduit par des guerres meurtrières (au Portugal, en Espagne et en Russie) avec des millions de morts et blessés, militaires et civils pour l'ensemble de l'Europe. Il est considéré[Par qui ?] comme l'un des plus grands commandants de l'histoire, et ses guerres et campagnes sont étudiées dans les écoles militaires du monde entier.\n",
        "Une tradition romantique fait de Napoléon Ier l'archétype du « grand homme » appelé à bouleverser le monde. C'est ainsi que le comte de Las Cases, auteur du Mémorial de Sainte-Hélène, tente de présenter Napoléon au Parlement britannique dans une pétition rédigée en 1818. Élie Faure, dans son ouvrage Napoléon, qui a inspiré le film d’Abel Gance, le compare à un « prophète des temps modernes ». D'autres auteurs, tel Victor Hugo, font du vaincu de Sainte-Hélène le « Prométhée moderne ». L'ombre de « Napoléon le Grand » plane sur de nombreux ouvrages de Balzac, Stendhal, Musset, mais aussi de Dostoïevski, de Tolstoï et de bien d'autres encore. Par ailleurs, un courant politique français émerge au xixe siècle, le bonapartisme, se réclamant de l'action et du mode de gouvernement de Napoléon.\n",
        "\"\"\""
      ]
    },
    {
      "cell_type": "code",
      "execution_count": null,
      "metadata": {
        "id": "wB6Rj8uMOZx_"
      },
      "outputs": [],
      "source": [
        "import numpy as np\n",
        "\n",
        "def summarize(text):\n",
        "    system = (\n",
        "        \"You are an expert in text summarization.\"\n",
        "    )\n",
        "    instruction = (\n",
        "       \"Provide me a short summary of the previous text.\",\n",
        "    )\n",
        "    template = (\n",
        "        f\"\"\"<|im_start|>system\n",
        "        {system}<|im_end|>\n",
        "        <|im_start|>user\n",
        "        {text}\n",
        "        {instruction}<|im_end|>\n",
        "        <|im_start|>assistant\n",
        "        \"\"\"\n",
        "    )\n",
        "    return llm(template)"
      ]
    },
    {
      "cell_type": "code",
      "execution_count": null,
      "metadata": {
        "id": "wgrsi0FtOabI"
      },
      "outputs": [],
      "source": [
        "summarize(text)"
      ]
    },
    {
      "cell_type": "code",
      "execution_count": null,
      "metadata": {
        "id": "rRU-LjHSXz4z"
      },
      "outputs": [],
      "source": []
    }
  ],
  "metadata": {
    "accelerator": "GPU",
    "colab": {
      "gpuType": "T4",
      "private_outputs": true,
      "provenance": []
    },
    "kernelspec": {
      "display_name": "Python 3",
      "name": "python3"
    },
    "language_info": {
      "name": "python"
    }
  },
  "nbformat": 4,
  "nbformat_minor": 0
}
